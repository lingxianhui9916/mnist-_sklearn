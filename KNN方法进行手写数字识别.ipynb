{
 "cells": [
  {
   "cell_type": "code",
   "execution_count": 1,
   "metadata": {},
   "outputs": [],
   "source": [
    "import os\n",
    "\n",
    "#返回向量和他的标签\n",
    "def img2vector(file_name):\n",
    "    return_vector=[]\n",
    "    return_lable = int(os.path.splitext(file_name)[0].split('\\\\')[-1].split('_')[0])\n",
    "    \n",
    "    with open(file_name,'r') as rf:\n",
    "        for line in rf:\n",
    "            return_vector+= [int(a) for a in list(line.strip())]\n",
    "            \n",
    "    return return_vector,return_lable\n",
    "\n",
    "#构建数据集：data_X,data_y\n",
    "def make_dataset(folder_name):\n",
    "    data_X=[]\n",
    "    data_y=[]\n",
    "    \n",
    "    for root,dirs,files in os.walk(folder_name):\n",
    "        for file in files:\n",
    "            file_name =os.path.join(root, file)\n",
    "            img_vector=img2vector(file_name)\n",
    "            data_X.append(img_vector[0])\n",
    "            data_y.append(img_vector[1])\n",
    "            \n",
    "    return data_X,data_y"
   ]
  },
  {
   "cell_type": "code",
   "execution_count": 2,
   "metadata": {},
   "outputs": [
    {
     "data": {
      "text/plain": [
       "'D:\\\\Jupyter\\\\Machine-Learning-master\\\\kNN\\\\3.数字识别'"
      ]
     },
     "execution_count": 2,
     "metadata": {},
     "output_type": "execute_result"
    }
   ],
   "source": [
    "os.getcwd()"
   ]
  },
  {
   "cell_type": "code",
   "execution_count": 3,
   "metadata": {},
   "outputs": [],
   "source": [
    "from sklearn.model_selection import train_test_split, GridSearchCV\n",
    "from sklearn.preprocessing import StandardScaler\n",
    "from sklearn.neighbors import KNeighborsClassifier\n",
    "import numpy as np"
   ]
  },
  {
   "cell_type": "code",
   "execution_count": 4,
   "metadata": {},
   "outputs": [
    {
     "name": "stdout",
     "output_type": "stream",
     "text": [
      "准确率： 0.9870801033591732\n"
     ]
    }
   ],
   "source": [
    "folder_name=r\"D:\\Jupyter\\Machine-Learning-master\\kNN\\3.数字识别\\trainingDigits\"\n",
    "\n",
    "data_X, data_y = make_dataset(folder_name)\n",
    "\n",
    "x_train, x_test, y_train, y_test = train_test_split(data_X, data_y, test_size=0.2)\n",
    "\n",
    "# 4.送入算法\n",
    "model = KNeighborsClassifier(algorithm='auto', leaf_size=30, metric='minkowski',metric_params=None, n_jobs=None, n_neighbors=5, p=3,weights='distance')\n",
    "model.fit(x_train, y_train) # 将测试集送入算法\n",
    "\n",
    "print(\"准确率：\",model.score(x_test, y_test))"
   ]
  },
  {
   "cell_type": "code",
   "execution_count": null,
   "metadata": {},
   "outputs": [
    {
     "data": {
      "text/plain": [
       "['knn_digital_recognition.model']"
      ]
     },
     "execution_count": 5,
     "metadata": {},
     "output_type": "execute_result"
    }
   ],
   "source": [
    "from sklearn.externals import joblib\n",
    "\n",
    "#保存模型\n",
    "joblib.dump(model,'knn_digital_recognition.model')"
   ]
  },
  {
   "cell_type": "code",
   "execution_count": null,
   "metadata": {},
   "outputs": [
    {
     "name": "stdout",
     "output_type": "stream",
     "text": [
      "[0 0 0 0 0 0 0 0 0 0 0 0 0 0 0 0 0 0 0 1 1 1 1 1 0 0 0 0 0 0 0 0]\n",
      "[0 0 0 0 0 0 0 0 0 0 0 0 0 0 1 1 1 1 1 1 1 1 1 1 1 0 0 0 0 0 0 0]\n",
      "[0 0 0 0 0 0 0 0 0 0 0 1 1 1 1 1 1 1 1 1 1 1 1 1 1 1 1 0 0 0 0 0]\n",
      "[0 0 0 0 0 0 0 0 0 0 1 1 1 1 1 1 1 1 1 1 1 1 1 1 1 1 1 0 0 0 0 0]\n",
      "[0 0 0 0 0 0 0 0 0 1 1 1 1 1 1 1 1 1 1 1 1 1 1 1 1 1 1 1 0 0 0 0]\n",
      "[0 0 0 0 0 0 0 0 0 1 1 1 1 1 1 1 1 1 1 1 1 1 1 1 1 1 1 0 0 0 0 0]\n",
      "[0 0 0 0 0 0 0 0 0 1 1 1 1 1 0 0 0 0 0 0 0 0 1 1 1 1 1 0 0 0 0 0]\n",
      "[0 0 0 0 0 0 0 0 0 0 1 0 0 0 0 0 0 0 0 0 0 0 1 1 1 1 1 0 0 0 0 0]\n",
      "[0 0 0 0 0 0 0 0 0 0 0 0 0 0 0 0 0 0 0 0 0 0 1 1 1 1 1 0 0 0 0 0]\n",
      "[0 0 0 0 0 0 0 0 0 0 0 0 0 0 0 0 0 0 0 0 0 0 1 1 1 1 1 0 0 0 0 0]\n",
      "[0 0 0 0 0 0 0 0 0 0 0 0 0 0 0 0 0 0 0 0 0 1 1 1 1 1 0 0 0 0 0 0]\n",
      "[0 0 0 0 0 0 0 0 0 0 0 0 0 0 0 0 0 0 0 0 0 1 1 1 1 1 0 0 0 0 0 0]\n",
      "[0 0 0 0 0 0 0 0 0 0 0 0 0 0 0 0 0 0 0 0 0 1 1 1 1 1 0 0 0 0 0 0]\n",
      "[0 0 0 0 0 0 0 1 1 1 1 1 1 1 1 1 1 1 1 1 1 1 1 1 1 1 0 0 0 0 0 0]\n",
      "[0 0 0 0 0 0 1 1 1 1 1 1 1 1 1 1 1 1 1 1 1 1 1 1 1 1 0 0 0 0 0 0]\n",
      "[0 0 0 0 0 0 1 1 1 1 1 1 1 1 1 1 1 1 1 1 1 1 1 1 1 1 0 0 0 0 0 0]\n",
      "[0 0 0 0 0 0 1 1 1 1 1 1 1 1 1 1 1 1 1 1 1 1 1 1 1 0 0 0 0 0 0 0]\n",
      "[0 0 0 0 0 0 1 1 1 1 1 1 1 1 1 1 1 1 1 1 1 1 1 1 0 0 0 0 0 0 0 0]\n",
      "[0 0 0 0 0 0 0 1 1 1 1 1 1 1 1 1 0 1 1 1 1 1 0 0 0 0 0 0 0 0 0 0]\n",
      "[0 0 0 0 0 0 0 0 0 0 0 0 0 0 0 0 1 1 1 1 1 0 0 0 0 0 0 0 0 0 0 0]\n",
      "[0 0 0 0 0 0 0 0 0 0 0 0 0 0 0 1 1 1 1 1 1 0 0 0 0 0 0 0 0 0 0 0]\n",
      "[0 0 0 0 0 0 0 0 0 0 0 0 0 0 0 1 1 1 1 1 1 0 0 0 0 0 0 0 0 0 0 0]\n",
      "[0 0 0 0 0 0 0 0 0 0 0 0 0 0 0 1 1 1 1 1 1 0 0 0 0 0 0 0 0 0 0 0]\n",
      "[0 0 0 0 0 0 0 0 0 0 0 0 0 0 1 1 1 1 1 0 0 0 0 0 0 0 0 0 0 0 0 0]\n",
      "[0 0 0 0 0 0 0 0 0 0 0 0 0 0 1 1 1 1 1 0 0 0 0 0 0 0 0 0 0 0 0 0]\n",
      "[0 0 0 0 0 0 0 0 0 0 0 0 0 0 1 1 1 1 0 0 0 0 0 0 0 0 0 0 0 0 0 0]\n",
      "[0 0 0 0 0 0 0 0 0 0 0 0 0 1 1 1 1 1 0 0 0 0 0 0 0 0 0 0 0 0 0 0]\n",
      "[0 0 0 0 0 0 0 0 0 0 0 0 1 1 1 1 1 1 0 0 0 0 0 0 0 0 0 0 0 0 0 0]\n",
      "[0 0 0 0 0 0 0 0 0 0 0 1 1 1 1 1 1 0 0 0 0 0 0 0 0 0 0 0 0 0 0 0]\n",
      "[0 0 0 0 0 0 0 0 0 0 0 1 1 1 1 1 1 0 0 0 0 0 0 0 0 0 0 0 0 0 0 0]\n",
      "[0 0 0 0 0 0 0 0 0 0 0 1 1 1 1 1 0 0 0 0 0 0 0 0 0 0 0 0 0 0 0 0]\n",
      "[0 0 0 0 0 0 0 0 0 0 0 0 1 1 1 1 0 0 0 0 0 0 0 0 0 0 0 0 0 0 0 0]\n",
      "[7]\n"
     ]
    }
   ],
   "source": [
    "#加载和使用模型\n",
    "RF=joblib.load('knn_digital_recognition.model')\n",
    "file_name=r\"D:\\Jupyter\\Machine-Learning-master\\kNN\\3.数字识别\\testDigits\\7_1.txt\"\n",
    "# print(img2vector(file_name)[0])\n",
    "a=[]\n",
    "count=0\n",
    "for b in img2vector(file_name)[0]:\n",
    "    a.append(b)\n",
    "    count+=1\n",
    "    if count%32==0:\n",
    "        print(np.array(a))\n",
    "        a.clear()\n",
    "# print(img2vector(file_name)[1])\n",
    "# thsDoc=[img2vector(file_name)[0],[img2vector(file_name)[1]]]\n",
    "result=RF.predict([img2vector(file_name)[0]])\n",
    "# print(x_test)\n",
    "# print(RF.score(x_test, y_test))\n",
    "# print(y_test)\n",
    "print(result)"
   ]
  },
  {
   "cell_type": "code",
   "execution_count": null,
   "metadata": {},
   "outputs": [
    {
     "name": "stdout",
     "output_type": "stream",
     "text": [
      "--------------------------- 1 0.9576381300988528\n",
      "--------------------------- 2 0.9513899897636966\n",
      "--------------------------- 3 0.9577094581375741\n",
      "--------------------------- 4 0.9571452359461252\n",
      "--------------------------- 5 0.9596797497007211\n",
      "--------------------------- 6 0.9545270934364393\n",
      "--------------------------- 7 0.9576151503084024\n",
      "--------------------------- 8 0.9519170834276748\n",
      "--------------------------- 9 0.9540035080016377\n",
      "--------------------------- 10 0.9498550907848623\n",
      "--------------------------- 11 0.9514202641777925\n",
      "--------------------------- 12 0.9524086171793107\n",
      "--------------------------- 13 0.9529561336631536\n",
      "--------------------------- 14 0.9498442941265166\n",
      "--------------------------- 15 0.9503678260781573\n",
      "--------------------------- 16 0.9483162147883111\n",
      "--------------------------- 17 0.9483189703683607\n",
      "--------------------------- 18 0.9446833771429872\n",
      "--------------------------- 19 0.9457173918750985\n",
      "--------------------------- 20 0.9462434572235179\n",
      "--------------------------- 21 0.9472908255411004\n",
      "--------------------------- 22 0.9472506462666477\n",
      "--------------------------- 23 0.9452342049095254\n",
      "--------------------------- 24 0.9441870557867185\n",
      "--------------------------- 25 0.9431668980645076\n",
      "--------------------------- 26 0.941085816396709\n",
      "--------------------------- 27 0.9385187690101443\n",
      "--------------------------- 28 0.9395497242379907\n",
      "--------------------------- 29 0.9390315895229648\n",
      "--------------------------- 30 0.9353689956614891\n"
     ]
    }
   ],
   "source": [
    "#使用交叉验证来寻找最优的n_neighbors参数，并展示出来\n",
    "from sklearn.model_selection import cross_val_score\n",
    "k_range=range(1,31)\n",
    "k_score=[]\n",
    "for k in k_range:\n",
    "    knn=KNeighborsClassifier(n_neighbors=k)\n",
    "    scores=cross_val_score(knn,data_X,data_y,cv=10,scoring='accuracy')\n",
    "    print('---------------------------',k,scores.mean())\n",
    "    k_score.append(scores.mean())"
   ]
  },
  {
   "cell_type": "code",
   "execution_count": null,
   "metadata": {},
   "outputs": [
    {
     "data": {
      "image/png": "[encoded data removed]",
      "text/plain": [
       "<Figure size 432x288 with 1 Axes>"
      ]
     },
     "metadata": {
      "needs_background": "light"
     },
     "output_type": "display_data"
    }
   ],
   "source": [
    "#画图之前先执行此命令\n",
    "%matplotlib inline\n",
    "\n",
    "import matplotlib.pyplot as plt\n",
    "plt.plot(k_range,k_score)\n",
    "plt.show()"
   ]
  },
  {
   "cell_type": "code",
   "execution_count": null,
   "metadata": {},
   "outputs": [],
   "source": [
    "from sklearn.model_selection import GridSearchCV\n",
    "# 2.将数据分割成训练集和测试集 test_size=0.25表示将25%的数据用作测试集\n",
    "x_train, x_test, y_train, y_test = train_test_split(data_X, data_y, test_size=0.25)\n",
    "# 3.特征工程(对特征值进行标准化处理)\n",
    "std = StandardScaler()\n",
    "x_train = std.fit_transform(x_train)\n",
    "x_test = std.transform(x_test)\n",
    "\n",
    "\n",
    "################探索超参数################\n",
    "# array<dict<参数名：参数可能的取值>>\n",
    "param_grid =[\n",
    "                {\n",
    "                    'weights':['uniform'],\n",
    "                    'n_neighbors': [i for i in range(1,11)]\n",
    "                },\n",
    "                {\n",
    "                    'weights':['distance'],\n",
    "                    'n_neighbors': [i for i in range(1,11)],\n",
    "                    'p': [i for i in range(1,6)]\n",
    "                }\n",
    "            ]\n",
    "\n",
    "# 先new一个默认的Classifier对象\n",
    "knn_clf = KNeighborsClassifier()\n",
    "#最佳参数为：knn_clf = KNeighborsClassifier(algorithm='auto', leaf_size=30, metric='minkowski',metric_params=None, n_jobs=None, n_neighbors=5, p=3,weights='distance')\n",
    "#最佳得分为：0.9910714285714286\n",
    "\n",
    "# 调用GridSearchCV创建网格搜索对象，传入参数为Classifier对象以及参数列表\n",
    "from sklearn.model_selection import GridSearchCV\n",
    "\n",
    "grid_search = GridSearchCV(knn_clf,param_grid,cv=10)\n",
    "\n",
    "# 调用fit方法执行网格搜索\n",
    "#         %%time\n",
    "grid_search.fit(x_train,y_train)\n",
    "\n",
    "# 获得最好的评估结果，返回的是KNeighborsClassifier对象，可以直接拿来做机器学习预测了\n",
    "print('--------grid_search.best_estimator_--------',grid_search.best_estimator_)\n",
    "\n",
    "# 最好的分数\n",
    "print('--------grid_search.best_score_--------',grid_search.best_score_)\n",
    "\n",
    "# 最好的参数\n",
    "print('--------grid_search.best_params_--------',grid_search.best_params_)"
   ]
  },
  {
   "cell_type": "code",
   "execution_count": null,
   "metadata": {},
   "outputs": [],
   "source": [
    "knn = Classification()\n",
    "knn.run()"
   ]
  },
  {
   "cell_type": "code",
   "execution_count": null,
   "metadata": {},
   "outputs": [],
   "source": []
  }
 ],
 "metadata": {
  "kernelspec": {
   "display_name": "Python 3",
   "language": "python",
   "name": "python3"
  },
  "language_info": {
   "codemirror_mode": {
    "name": "ipython",
    "version": 3
   },
   "file_extension": ".py",
   "mimetype": "text/x-python",
   "name": "python",
   "nbconvert_exporter": "python",
   "pygments_lexer": "ipython3",
   "version": "3.7.3"
  }
 },
 "nbformat": 4,
 "nbformat_minor": 2
}
